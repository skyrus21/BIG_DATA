{
 "cells": [
  {
   "cell_type": "markdown",
   "id": "167f627a",
   "metadata": {},
   "source": [
    "1) Реализовать функцию, которая оставляет в списке из чисел лишь элементы, которые заданное число делит без остатка."
   ]
  },
  {
   "cell_type": "code",
   "execution_count": 94,
   "id": "2fbfd973",
   "metadata": {},
   "outputs": [
    {
     "name": "stdout",
     "output_type": "stream",
     "text": [
      "Введите число:2\n",
      "Выходной список: [2, 4, 46, 54, 78]\n"
     ]
    }
   ],
   "source": [
    "n = int(input('Введите число:'))\n",
    "l = [1, 2, 3, 4, 77, 46, 54, 78]\n",
    "def func1(l, n):\n",
    "    temp = list()\n",
    "    for i in l:\n",
    "        if i % n == 0:\n",
    "            temp.append(i)\n",
    "    return temp\n",
    "print('Выходной список:', func1(l, n))"
   ]
  },
  {
   "cell_type": "markdown",
   "id": "9a6d02ea",
   "metadata": {},
   "source": [
    "2) Реализовать функцию, удаляющую из списка каждый третий элемент, а каждый пятый удваивающую"
   ]
  },
  {
   "cell_type": "code",
   "execution_count": 55,
   "id": "92054b42",
   "metadata": {},
   "outputs": [
    {
     "name": "stdout",
     "output_type": "stream",
     "text": [
      "[1, 2, 4, 5, 7, 8, 10, 11]\n"
     ]
    }
   ],
   "source": [
    "lst = [1, 2, 3, 4, 5, 6, 7, 8, 9, 10, 11] \n",
    "new_lst = []\n",
    "for i in range(len(lst)):\n",
    "    if (i + 1) % 3 != 0:\n",
    "        new_lst.append(lst[i])\n",
    "print(new_lst)"
   ]
  },
  {
   "cell_type": "markdown",
   "id": "55fe6188",
   "metadata": {},
   "source": [
    "3) Реализовать функцию, которая для заданного элемента считает количество его повторений в списке."
   ]
  },
  {
   "cell_type": "code",
   "execution_count": 95,
   "id": "506d4803",
   "metadata": {},
   "outputs": [
    {
     "name": "stdout",
     "output_type": "stream",
     "text": [
      "Введите число , по которому будут искаться повторения 7\n",
      "повторений будет \n",
      "3\n"
     ]
    }
   ],
   "source": [
    "n=int(input('Введите число , по которому будут искаться повторения '))\n",
    "list_numbers = [1, 2, 6, 7, 7, 7, 6, 8, 1]\n",
    "print('повторений будет ')\n",
    "print(list_numbers.count(n))"
   ]
  },
  {
   "cell_type": "markdown",
   "id": "54f18a49",
   "metadata": {},
   "source": [
    "4) Реализовать функцию, реверсирующую список по три элемента, например для [1, 2, 3, 4, 5, 6] должно получиться [3, 2, 1, 6, 5, 4]."
   ]
  },
  {
   "cell_type": "code",
   "execution_count": 36,
   "id": "9ccdd1a1",
   "metadata": {},
   "outputs": [
    {
     "name": "stdout",
     "output_type": "stream",
     "text": [
      "Введите размер списка:6\n",
      "original: [7, 8, 6, 3, 7, 10]\n",
      "reversed: [6, 8, 7, 10, 7, 3]\n"
     ]
    }
   ],
   "source": [
    "import random\n",
    " \n",
    "lst = []\n",
    "n = int(input('Введите размер списка:'))\n",
    "for i in range(n):\n",
    "    lst.append(random.randint(1, 10))\n",
    " \n",
    "print('original:', lst)\n",
    "mid = len(lst)//2-1\n",
    " \n",
    "print('reversed:', lst[mid::-1]+lst[-1:mid:-1])\n"
   ]
  },
  {
   "cell_type": "markdown",
   "id": "11a121cd",
   "metadata": {},
   "source": [
    "5) Реализовать функцию, которая из двух списков, состоящих из чисел, строит список из парных разностей. Например для [1, 2, 3, 4] и [2, 3, 4, 2] должно получиться [-1, -1, -1, 2]."
   ]
  },
  {
   "cell_type": "code",
   "execution_count": 92,
   "id": "55792484",
   "metadata": {},
   "outputs": [
    {
     "name": "stdout",
     "output_type": "stream",
     "text": [
      "Выходные данные: [-4, 1, -1, -1, -15, 11]\n"
     ]
    }
   ],
   "source": [
    "a1 = [3, 4, 5, 6, -7, 9]\n",
    "a2 = [7, 3, 6, 7, 8,-2]\n",
    "def func5(a1, a2):\n",
    "    a3 = list()\n",
    "    i = 0\n",
    "    while i < len(a1 + a2)/2:\n",
    "            a3.append(a1[i] - a2[i])\n",
    "            i += 1\n",
    "    return a3\n",
    "print('Выходные данные:', func5(a1, a2))"
   ]
  },
  {
   "cell_type": "markdown",
   "id": "922aca97",
   "metadata": {},
   "source": [
    "6) Для заданного списка L функция образует список из чисел сколько раз каждый символ встречается в списке L."
   ]
  },
  {
   "cell_type": "code",
   "execution_count": 91,
   "id": "a9f0286c",
   "metadata": {},
   "outputs": [
    {
     "name": "stdout",
     "output_type": "stream",
     "text": [
      "вывод  [1, 1, 1, 2, 2, 1, 3, 3, 3, 1, 2, 2]\n"
     ]
    }
   ],
   "source": [
    "L=[1,2,3,4,7,9,5,5,5,6,7,4]\n",
    "def func(L):\n",
    "    a=list()\n",
    "    for i in L:\n",
    "        a.append(L.count(i))\n",
    "    return a\n",
    "print ('вывод ',func(L))"
   ]
  },
  {
   "cell_type": "markdown",
   "id": "65a3c2e2",
   "metadata": {},
   "source": [
    "7) Функция удаляет все нулевые и отрицательные элементы из списка и полученный список сортирует по возрастанию."
   ]
  },
  {
   "cell_type": "code",
   "execution_count": 77,
   "id": "6923bf66",
   "metadata": {},
   "outputs": [
    {
     "name": "stdout",
     "output_type": "stream",
     "text": [
      "[1, 5, 7, 8, 56]\n"
     ]
    }
   ],
   "source": [
    "lst = [7,1,0, -2, -6, 5,8,0,-44,56] \n",
    "i = 0\n",
    "while i < len(lst):\n",
    "    if lst[i] <= 0:\n",
    "        del lst[i]\n",
    "    else:\n",
    "        i += 1\n",
    "lst\n",
    "print(sorted(lst, reverse=False))"
   ]
  },
  {
   "cell_type": "markdown",
   "id": "f2577dee",
   "metadata": {},
   "source": [
    "8) Функция для заданного числа N и списка из элементов не превышающих N формирует список из недостающих. Например, N=10, список — [1, 2, 3, 6, 7], тогда результат [4, 5, 8, 9]."
   ]
  },
  {
   "cell_type": "code",
   "execution_count": 1,
   "id": "16687c0c",
   "metadata": {},
   "outputs": [
    {
     "name": "stdout",
     "output_type": "stream",
     "text": [
      "[2, 3, 6]\n"
     ]
    }
   ],
   "source": [
    "def func(ar,N):\n",
    "    res=[]\n",
    "    for i in range(1,N):\n",
    "        if i not in ar:\n",
    "            res.append(i)\n",
    "    return res\n",
    "a=[1,4,5,7,8,9]\n",
    "N=10\n",
    "print(func(a,N))"
   ]
  },
  {
   "cell_type": "markdown",
   "id": "8871d983",
   "metadata": {},
   "source": [
    "Обработка данных"
   ]
  },
  {
   "cell_type": "markdown",
   "id": "b62b409f",
   "metadata": {},
   "source": [
    "1) Из папки на github с текущим заданием загрузить файл data_1.csv"
   ]
  },
  {
   "cell_type": "code",
   "execution_count": 6,
   "id": "2ac3f7a3",
   "metadata": {},
   "outputs": [
    {
     "ename": "ModuleNotFoundError",
     "evalue": "No module named 'numpy'",
     "output_type": "error",
     "traceback": [
      "\u001b[1;31m---------------------------------------------------------------------------\u001b[0m",
      "\u001b[1;31mModuleNotFoundError\u001b[0m                       Traceback (most recent call last)",
      "\u001b[1;32m~\\AppData\\Local\\Temp/ipykernel_9848/3508403984.py\u001b[0m in \u001b[0;36m<module>\u001b[1;34m\u001b[0m\n\u001b[1;32m----> 1\u001b[1;33m \u001b[1;32mimport\u001b[0m \u001b[0mnumpy\u001b[0m \u001b[1;32mas\u001b[0m \u001b[0mnp\u001b[0m\u001b[1;33m\u001b[0m\u001b[1;33m\u001b[0m\u001b[0m\n\u001b[0m\u001b[0;32m      2\u001b[0m \u001b[1;32mimport\u001b[0m \u001b[0mpandas\u001b[0m \u001b[1;32mas\u001b[0m \u001b[0mpd\u001b[0m\u001b[1;33m\u001b[0m\u001b[1;33m\u001b[0m\u001b[0m\n\u001b[0;32m      3\u001b[0m \u001b[1;32mimport\u001b[0m \u001b[0mmatplotlib\u001b[0m\u001b[1;33m\u001b[0m\u001b[1;33m\u001b[0m\u001b[0m\n\u001b[0;32m      4\u001b[0m \u001b[1;33m\u001b[0m\u001b[0m\n\u001b[0;32m      5\u001b[0m \u001b[0mdata\u001b[0m\u001b[1;33m=\u001b[0m\u001b[0mpd\u001b[0m\u001b[1;33m.\u001b[0m\u001b[0mread_csv\u001b[0m\u001b[1;33m(\u001b[0m\u001b[1;34m\"https://raw.githubusercontent.com/junaart/ForStudents/master/Big_Data/Seminar_4/data_1.csv\"\u001b[0m\u001b[1;33m)\u001b[0m\u001b[1;33m\u001b[0m\u001b[1;33m\u001b[0m\u001b[0m\n",
      "\u001b[1;31mModuleNotFoundError\u001b[0m: No module named 'numpy'"
     ]
    }
   ],
   "source": [
    "import numpy as np\n",
    "import pandas as pd\n",
    "import matplotlib\n",
    "\n",
    "data=pd.read_csv(\"https://raw.githubusercontent.com/junaart/ForStudents/master/Big_Data/Seminar_4/data_1.csv\")\n",
    "display(data)"
   ]
  }
 ],
 "metadata": {
  "kernelspec": {
   "display_name": "Python 3 (ipykernel)",
   "language": "python",
   "name": "python3"
  },
  "language_info": {
   "codemirror_mode": {
    "name": "ipython",
    "version": 3
   },
   "file_extension": ".py",
   "mimetype": "text/x-python",
   "name": "python",
   "nbconvert_exporter": "python",
   "pygments_lexer": "ipython3",
   "version": "3.9.7"
  }
 },
 "nbformat": 4,
 "nbformat_minor": 5
}
